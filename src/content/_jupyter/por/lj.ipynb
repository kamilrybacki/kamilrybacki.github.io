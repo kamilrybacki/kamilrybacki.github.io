{
 "cells": [
  {
   "cell_type": "markdown",
   "metadata": {},
   "source": [
    "# Lennard-Jones potential and force\n",
    "\n",
    "This quick notebook lets you visualize the Lennard-Jones potential and force. The Lennard-Jones potential is a simple model for the interaction between two atoms or molecules. It is also often called the \"12-6 potential\" due to the powers of its two terms - the first term is a repulsive term that goes as $r^{-12}$, and the second term is an attractive term that goes as $r^{-6}$. The potential is given by:\n",
    "\n",
    "$$\n",
    "U(r) = 4 \\epsilon \\left[ \\left( \\frac{\\sigma}{r} \\right)^{12} - \\left( \\frac{\\sigma}{r} \\right)^6 \\right]\n",
    "$$"
   ]
  },
  {
   "cell_type": "markdown",
   "metadata": {},
   "source": [
    "## What are those Greek letters? 🇬🇷\n",
    "\n",
    "From our previous considerations, we know that $r$ is simply the distance between two particles, but what about $\\epsilon$ and $\\sigma$? These are the parameters of the Lennard-Jones potential, that are two little knobs with which we can control the characteristics of interactions between our atoms. In other words, they are quantities dependent on the physical/chemical makeup of our system - just like the material was for our spring!\n",
    "\n",
    "To find their influence upon the Lennard-Jones (LJ) potential, let's implement it as a Python function that takes three arguments: distance $r$, and the two parameters $\\epsilon$ and $\\sigma$."
   ]
  },
  {
   "cell_type": "code",
   "execution_count": null,
   "metadata": {},
   "outputs": [],
   "source": [
    "import micropip\n",
    "\n",
    "await micropip.install(\"ipywidgets\")\n",
    "import ipywidgets\n",
    "\n",
    "def lennard_jones_potential(distance: float, sigma: float, epsilon: float):\n",
    "    return 4 * epsilon * ((sigma / distance) ** 12 - (sigma / distance) ** 6)"
   ]
  },
  {
   "cell_type": "markdown",
   "metadata": {},
   "source": [
    "Next, we can use any plotting library available in Python to graph this function and see how it behaves for different values of $\\epsilon$ and $\\sigma$. We will use the `matplotlib` library for this purpose."
   ]
  },
  {
   "cell_type": "code",
   "execution_count": null,
   "metadata": {},
   "outputs": [],
   "source": [
    "import matplotlib.pyplot as plt\n",
    "import numpy\n",
    "\n",
    "MINIMUM_DISTANCE = 3\n",
    "MAXIMUM_DISTANCE = 10\n",
    "\n",
    "LJ_SIGMA = 3.4\n",
    "LJ_EPSILON = 0.0103\n",
    "\n",
    "distances = numpy.linspace(MINIMUM_DISTANCE, MAXIMUM_DISTANCE, 100)\n",
    "derivative_values = [\n",
    "    lennard_jones_potential(distance, LJ_SIGMA, LJ_EPSILON)\n",
    "    for distance in distances\n",
    "]\n",
    "\n",
    "plt.plot(distances, derivative_values, color='bisque')\n",
    "\n",
    "plt.xlabel('Distance (Å)')\n",
    "plt.ylabel('Potential Energy (eV)')\n",
    "plt.title('Lennard-Jones Potential')\n",
    "\n",
    "plt.ylim(\n",
    "    -0.2*lennard_jones_potential(MINIMUM_DISTANCE, LJ_SIGMA, LJ_EPSILON),\n",
    "    0.2*lennard_jones_potential(MINIMUM_DISTANCE, LJ_SIGMA, LJ_EPSILON),\n",
    ")\n",
    "\n",
    "plt.grid(False)\n",
    "plt.style.use('dark_background')\n",
    "plt.tight_layout()\n",
    "plt.hlines(0, MINIMUM_DISTANCE, MAXIMUM_DISTANCE, color='darkgray', linestyles='dotted')\n",
    "\n",
    "plt.show()"
   ]
  },
  {
   "cell_type": "markdown",
   "metadata": {},
   "source": [
    "Here we can see that this curve has one, special place in its first half on the left - the so-called \"potential valley\", which has its minimum somewhere before the distance of $r = 4 \\AA$, with the depth strangely similar to the value of `LJ_EPSILON` parameter, seen in the Python code above.\n",
    "\n",
    "This calls for an investigation and luckily, Jupyter Notebooks have a couple of tricks up their sleeve, which will allows us to study this function interactively.\n",
    "To get started, we will use the `ipywidgets` library to create sliders for $\\epsilon$ and $\\sigma$ and see how the potential changes as we move them around."
   ]
  },
  {
   "cell_type": "code",
   "execution_count": null,
   "metadata": {},
   "outputs": [],
   "source": [
    "def plot_lennard_jones(sigma: float, epsilon: float, distances_range: tuple[float, float]):\n",
    "    '''\n",
    "        Plot the Lennard-Jones potential for a given sigma, epsilon, and range of distances.\n",
    "        This function is basically a copy-paste of the previous code, but with the parameters\n",
    "        replaced by the ones passed to the function.\n",
    "    '''\n",
    "    distances = numpy.linspace(*distances_range, 100)\n",
    "    potentials = [\n",
    "        lennard_jones_potential(distance, sigma, epsilon)\n",
    "        for distance in distances\n",
    "    ]\n",
    "\n",
    "    plt.plot(distances, potentials, color='bisque')\n",
    "\n",
    "    plt.xlabel('Distance (Å)')\n",
    "    plt.ylabel('Potential Energy (eV)')\n",
    "    plt.title('Lennard-Jones Potential')\n",
    "\n",
    "    plt.ylim(-0.2, 0.2)\n",
    "    plt.xlim(*distances_range)\n",
    "\n",
    "    plt.grid(False)\n",
    "    plt.style.use('dark_background')\n",
    "    plt.tight_layout()\n",
    "    plt.hlines(0, *distances_range, color='darkgray', linestyles='dotted')\n",
    "\n",
    "    plt.show()\n",
    "\n",
    "ipywidgets.interact(\n",
    "    plot_lennard_jones,\n",
    "    sigma=(0.1, 10, 0.01),\n",
    "    epsilon=(0.001, 0.1, 0.001),\n",
    "    distances_range=ipywidgets.FloatRangeSlider(\n",
    "        min=1, max=20, step=0.1, value=[3, 10],\n",
    "        description='Distances (Å)',\n",
    "    ),\n",
    ")\n",
    "print(\"\")"
   ]
  },
  {
   "cell_type": "markdown",
   "metadata": {},
   "source": [
    "If You play around with the sliders, You will start to see a very interesting pattern - the depth of the potential well is directly proportional to the value of $\\epsilon$, and the position of the minimum is directly proportional to the value of $\\sigma$. But why? Well, in mathematics, if You want to gain some additional insight into the maximum or minimum of the function, You can try calculating its first **derivative** and figure out where it is equal to zero. This is exactly what we will do next - but in a dope way, using the `sympy` library to calculate the derivative symbolically and plot it using `matplotlib`."
   ]
  },
  {
   "cell_type": "markdown",
   "metadata": {},
   "source": [
    "## Snake mathemagics 🐍🎩\n",
    "\n",
    "So, `sympy` is a very cool library, that can be used to automagically derive expressions and solve problems based on input functions expressed purely with symbols. This is a very powerful tool, and we will use it to calculate the first derivative of the Lennard-Jones potential and plot it to see where it is equal to zero."
   ]
  },
  {
   "cell_type": "code",
   "execution_count": null,
   "metadata": {},
   "outputs": [],
   "source": [
    "import sympy\n",
    "\n",
    "r = sympy.symbols('r')\n",
    "sigma, epsilon = sympy.symbols('sigma epsilon', positive=True, real=True)\n",
    "\n",
    "lennard_jones_potential_expression = 4 * epsilon * ((sigma / r) ** 12 - (sigma / r) ** 6)\n",
    "\n",
    "print(\"Lennard-Jones potential:\")\n",
    "lennard_jones_potential_expression"
   ]
  },
  {
   "cell_type": "code",
   "execution_count": null,
   "metadata": {},
   "outputs": [],
   "source": [
    "lennard_jones_potential_first_derivative = lennard_jones_potential_expression.diff(r)\n",
    "print(\"\\nFirst derivative of the Lennard-Jones potential:\")\n",
    "lennard_jones_potential_first_derivative"
   ]
  },
  {
   "cell_type": "markdown",
   "metadata": {},
   "source": [
    "Now we will quickly translate this expression into a Python function and do a quick plot of this derivative using Matplotlib, again. We will also create the same set of sliders as for the original potential function and see how they influence the shape of this new graph. To hit the point home even more, we will overlay the original potential curve over the generated plot - this should be our last hint. However, we can also use the fact that if we change the sign of values of the first derivative\n",
    "of the potential, we will obtain **the force** acting on each of the atoms."
   ]
  },
  {
   "cell_type": "code",
   "execution_count": null,
   "metadata": {},
   "outputs": [],
   "source": [
    "def lennard_jones_derivative(distance: float, sigma: float, epsilon: float):\n",
    "    return 4 * epsilon * (((6 * sigma ** 6) / (distance ** 7)) - ((12 * sigma ** 12) / (distance ** 13)))\n",
    "\n",
    "def plot_lennard_jones_functions(sigma: float, epsilon: float, distances_range: tuple[float, float]):\n",
    "    distances = numpy.linspace(*distances_range, 100)\n",
    "    derivative_values = [\n",
    "        # Minus comes from the fact that its an antagonistic force\n",
    "        # with relation to the displacement\n",
    "        -1.0 * lennard_jones_derivative(distance, sigma, epsilon) \n",
    "        for distance in distances\n",
    "    ]\n",
    "    potential_values = [\n",
    "        lennard_jones_potential(distance, sigma, epsilon)\n",
    "        for distance in distances\n",
    "    ]\n",
    "\n",
    "    plt.plot(distances, derivative_values, color='blue', label=\"Derivative\")\n",
    "    plt.plot(distances, potential_values, color='red', label=\"Potential\")\n",
    "\n",
    "    plt.xlabel('Distance')\n",
    "    plt.ylabel('Potential / LJ Force')\n",
    "    plt.title('Lennard-Jones potential first derivative')\n",
    "\n",
    "    plt.ylim(-0.2, 0.2)\n",
    "    plt.xlim(*distances_range)\n",
    "\n",
    "    plt.legend(loc=\"upper right\")\n",
    "    plt.grid(False)\n",
    "    plt.style.use('dark_background')\n",
    "    plt.tight_layout()\n",
    "    plt.hlines(0, *distances_range, color='darkgray', linestyles='dotted')\n",
    "\n",
    "    plt.show()\n",
    "\n",
    "ipywidgets.interact(\n",
    "    plot_lennard_jones_functions,\n",
    "    sigma=(0.1, 10, 0.01),\n",
    "    epsilon=(0.001, 0.1, 0.001),\n",
    "    distances_range=ipywidgets.FloatRangeSlider(\n",
    "        min=1, max=20, step=0.1, value=[3, 10],\n",
    "        description='Distances (Å)',\n",
    "    ),\n",
    ")\n",
    "print(\"\")"
   ]
  },
  {
   "cell_type": "markdown",
   "metadata": {},
   "source": [
    "Here's the answer to our little inquiry - the $sigma$ parameter is the distance at which the first derivative of the potential (the **blue** curve representing the **FORCE** of interactions) is equal to zero. At this point the **POTENTIAL** (red curve) will hit the bottom of the well, as observed in the beginning of our journey.\n",
    "\n",
    "Let's go back to the non-Jupyter portion of the article... 🏃‍♂️"
   ]
  }
 ],
 "metadata": {
  "kernelspec": {
   "display_name": "Python 3",
   "language": "python",
   "name": "python3"
  },
  "language_info": {
   "codemirror_mode": {
    "name": "ipython",
    "version": 3
   },
   "file_extension": ".py",
   "mimetype": "text/x-python",
   "name": "python",
   "nbconvert_exporter": "python",
   "pygments_lexer": "ipython3",
   "version": "3.11.4"
  }
 },
 "nbformat": 4,
 "nbformat_minor": 2
}
