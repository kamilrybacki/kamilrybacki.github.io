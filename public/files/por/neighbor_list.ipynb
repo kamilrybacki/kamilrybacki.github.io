{
 "cells": [
  {
   "cell_type": "markdown",
   "metadata": {},
   "source": [
    "# Contructing the neighbor list\n",
    "\n",
    "In this notebook I will briefly show the construction of the neighbor list for a 3D system. The neighbor list is a list of all the particles that are within a certain distance of a given particle. This is a very useful tool in molecular dynamics simulations, as it allows to calculate the forces between particles in a more efficient way.\n",
    "\n",
    "The implementation here will be **as minimal as possible** and when translated into our Rust code - it will use a couple of tricks there to optimize the performance.\n",
    "\n",
    "## Preliminaries\n",
    "\n",
    "First we need to set up a basic data structure for out particles and the neighbors list. We will use a simple dataclass for the particles and dictionary for the neighbors list, due to its $O(1)$ access time."
   ]
  },
  {
   "cell_type": "code",
   "execution_count": null,
   "metadata": {},
   "outputs": [],
   "source": [
    "import dataclasses\n",
    "\n",
    "@dataclasses.dataclass\n",
    "class Particle:\n",
    "    x: float\n",
    "    y: float\n",
    "    z: float\n",
    "\n",
    "    def calculate_distance(self, other: \"Particle\") -> float:\n",
    "        return abs(self.x - other.x) + abs(self.y - other.y) + abs(self.z - other.z)\n",
    "\n",
    "    def __repr__(self) -> str:\n",
    "        return f\"({self.x}, {self.y}, {self.z})\"\n",
    "\n",
    "\n",
    "@dataclasses.dataclass\n",
    "class NeighborsList:\n",
    "    cutoff: float\n",
    "    neighbors: dict[int, list[tuple[int, float]]] = dataclasses.field(init=False, default_factory=dict)\n",
    "\n",
    "    def update(self, particles: list[Particle]) -> None:\n",
    "        pass\n",
    "\n",
    "    def __repr__(self) -> str:\n",
    "        print(f\"NeighborsList(cutoff={self.cutoff})\")\n",
    "        for particle, neighbors in self.neighbors.items():\n",
    "            print(f\"\\t {particle}: {neighbors}\")"
   ]
  },
  {
   "cell_type": "markdown",
   "metadata": {},
   "source": [
    "As You can see, the data structures themselves are rather simple. The `Particle` class will hold the position expressed\n",
    "as Cartesian coordinates and the `NeighborsList` will be our local neighborhood cache with a set cutoff distance.\n",
    "\n",
    "What we need to implement right now is the `update` method of `NeighborsList` that will record find all neighbors\n",
    "of an $i-th$ atom by looking at other particles with indices $j > i$ since there is no need to check pair $(j,i)$ if\n",
    "pair $(i,j)$ was already verified to be close neighbors or not.\n",
    "\n",
    "If two particles are deemed to be close (below cutoff), then their indices and relative distance will be kept in the\n",
    "cache, to reduce future computations."
   ]
  },
  {
   "cell_type": "code",
   "execution_count": null,
   "metadata": {},
   "outputs": [],
   "source": [
    "def update(self: NeighborsList, particles: list[Particle]):\n",
    "    number_of_particles: int = len(particles)\n",
    "    for i in range(0, number_of_particles):\n",
    "        if i not in self.neighbors:\n",
    "            self.neighbors[i] = []\n",
    "        for j in range(i+1, number_of_particles): # j+1 to avoid double counting\n",
    "            if j not in self.neighbors:\n",
    "                self.neighbors[j] = []\n",
    "            if distance := particles[i].calculate_distance(particles[j]) < self.cutoff:\n",
    "                # Add j to the list of neighbors of i\n",
    "                # and add i to the list of neighbors of j (since the pair is symmetric)\n",
    "                self.neighbors[i].append((j, distance))\n",
    "                self.neighbors[j].append((i, distance))\n",
    "NeighborsList.update = update  # This is how we add a method to a class after it has been defined (monkey patching)"
   ]
  },
  {
   "cell_type": "markdown",
   "metadata": {},
   "source": [
    "After implementing this, we will be able to visualize the results and see how the neighbor list is constructed.\n",
    "Most importantly, we can compare the performance of the brute force method with the neighbor list method, for\n",
    "different number of particles and different cutoff distances."
   ]
  },
  {
   "cell_type": "code",
   "execution_count": null,
   "metadata": {},
   "outputs": [],
   "source": [
    "# This part is similar to the crystal lattice we've constructed in Part I - basis + dimension\n",
    "\n",
    "def construct_lattice(base_distance: float, number_of_repetitions: int, base_particles: list[Particle]) -> list[Particle]:\n",
    "    particles = []\n",
    "    for i in range(0, number_of_repetitions):\n",
    "        for j in range(0, number_of_repetitions):\n",
    "            for k in range(0, number_of_repetitions):\n",
    "                for particle in base_particles:\n",
    "                    x_position = (particle.x + i) * base_distance\n",
    "                    y_position = (particle.y + j) * base_distance\n",
    "                    z_position = (particle.z + k) * base_distance\n",
    "                    particles.append(Particle(x_position, y_position, z_position))\n",
    "    return particles\n"
   ]
  },
  {
   "cell_type": "markdown",
   "metadata": {},
   "source": [
    "Using the function above we will create an interface that will allow us to create a 3D system of particles and visualize the neighbor list.\n",
    "To simulate a case when no neighbor list is used, we can set the cutoff distance to be very large, so that all particles will be considered neighbors."
   ]
  },
  {
   "cell_type": "code",
   "execution_count": null,
   "metadata": {},
   "outputs": [],
   "source": [
    "import micropip\n",
    "await micropip.install(\"ipywidgets\")\n",
    "\n",
    "import ipywidgets\n",
    "import matplotlib.pyplot as plt\n",
    "\n",
    "FCC_BASIS = [\n",
    "    Particle(0, 0, 0),\n",
    "    Particle(0.5, 0.5, 0),\n",
    "    Particle(0.5, 0, 0.5),\n",
    "    Particle(0, 0.5, 0.5),\n",
    "]\n",
    "LATTICE_CONSTANT = 4.2\n",
    "NUMBER_OF_REPETITIONS = 3\n",
    "CHOSEN_PARTICLE_ID = int(len(FCC_BASIS) * NUMBER_OF_REPETITIONS ** 3 / 2)\n",
    "\n",
    "def plot_particles(cutoff: float) -> None:\n",
    "    particles = construct_lattice(LATTICE_CONSTANT, NUMBER_OF_REPETITIONS, FCC_BASIS)\n",
    "\n",
    "    fig = plt.figure()\n",
    "    ax = fig.add_subplot(111, projection=\"3d\")\n",
    "\n",
    "    fig.suptitle(f\"Lattice constant = {LATTICE_CONSTANT}, cutoff = {cutoff}\")\n",
    "\n",
    "    neighbors_list = NeighborsList(cutoff)\n",
    "    neighbors_list.update(particles)\n",
    "\n",
    "    plt.xlim(-0.5*LATTICE_CONSTANT, (NUMBER_OF_REPETITIONS) * LATTICE_CONSTANT)\n",
    "    plt.ylim(-0.5*LATTICE_CONSTANT, (NUMBER_OF_REPETITIONS) * LATTICE_CONSTANT)\n",
    "\n",
    "    # Plot a black dot for the chosen particle\n",
    "    chosen_particle = particles[CHOSEN_PARTICLE_ID]\n",
    "    ax.scatter(chosen_particle.x, chosen_particle.y, chosen_particle.z, c=\"black\", zorder=10)\n",
    "\n",
    "    counter = 0\n",
    "    # Plot a red dot for each neighbor of the chosen particle\n",
    "    for neighbor_id, _ in neighbors_list.neighbors[CHOSEN_PARTICLE_ID]:\n",
    "        neighbor = particles[neighbor_id]\n",
    "        counter += 1\n",
    "        ax.scatter(neighbor.x, neighbor.y, neighbor.z, c=\"red\", zorder=10)\n",
    "\n",
    "    plt.title(f\"Number of neighbors = {counter} vs. {len(particles) - 1} (all other particles)\")\n",
    "    \n",
    "    # Plot a blue dot for all non-neighbors of the chosen particle\n",
    "    for i, particle in enumerate(particles):\n",
    "        if i != CHOSEN_PARTICLE_ID and i not in [neighbor_id for neighbor_id, _ in neighbors_list.neighbors[CHOSEN_PARTICLE_ID]]:\n",
    "            ax.scatter(particle.x, particle.y, particle.z, c=\"blue\", zorder=10, alpha=0.25)\n",
    "\n",
    "    plt.margins(0.1)\n",
    "    plt.show()\n",
    "\n",
    "ipywidgets.interact(\n",
    "    plot_particles,\n",
    "    cutoff=ipywidgets.FloatSlider(min=0.0, max=(NUMBER_OF_REPETITIONS + 2) * LATTICE_CONSTANT, step=(NUMBER_OF_REPETITIONS + 2) * LATTICE_CONSTANT / 100, value=3.0),\n",
    ")\n",
    "print(\"\")"
   ]
  },
  {
   "cell_type": "markdown",
   "metadata": {},
   "source": [
    "The gradual increase of red neighbors in the plot will show how the neighbor list is constructed and how its size can grow with the choice of the cutoff distance.\n",
    "The way in which each population of neighbors suddenly increases after a certain distance means that there are intervals of distances where the number of neighbors is constant. Those are basically neighborhoods of a particle **with different orders**, which correspons to a group of red particles with cutoff distance $r$ in the range of $\\langle4.2, \\mathrm{approx.}~8.2)$ (please don't kill me for that notation).\n",
    "\n",
    "Potentials can also be divided into different categories based on their \"neighborhood-ness\" or how many orders of neighborhoods they affect. This is a very important concept in molecular dynamics simulations and it is the reason why neighbor lists are so important. But what about computational time? Let's see how the computational time scales with the number of particles and the cutoff distance. We will introduce some bogus operation performed for each atomic pair that will roughly correspond to calculating the force between them. The number of particles will be set to resemble the amount normally used in molecular dynamics simulations e.g. $10^3 - 10^6$."
   ]
  },
  {
   "cell_type": "markdown",
   "metadata": {},
   "source": [
    "Next we will implement the sudo-forces calculation and compare the time it takes to calculate the forces using two types of neighbor lists:\n",
    "\n",
    "1. A list of cutoff $r_\\mathrm{cut} \\rightarrow \\infty$ or, in other words, f*?!#ing huge.\n",
    "2. A list of cutoff $r_\\mathrm{cut} = \\sqrt{\\mathrm{Lattice~constant}}$.\n",
    "\n",
    "The test will be performed for different number of particles expressed as number of unit cells in a cubic lattice (repetitions along each dimension).\n",
    "The range of repetitions will be from $2$ to $20$ and the lattice constant will be set to $4.2$."
   ]
  },
  {
   "cell_type": "code",
   "execution_count": null,
   "metadata": {},
   "outputs": [],
   "source": [
    "import time\n",
    "import sys\n",
    "import math\n",
    "\n",
    "LATTICE_CONSTANT = 4.2\n",
    "\n",
    "\n",
    "def kind_of_force_calculation(distance: float) -> float:\n",
    "    return 1 / distance ** 12 - 1 / distance ** 6\n",
    "\n",
    "\n",
    "def mimic_calculating_forces(neighbors_list: NeighborsList) -> None:\n",
    "    for i in neighbors_list.neighbors:\n",
    "        for _, distance in neighbors_list.neighbors[i]:\n",
    "            kind_of_force_calculation(distance)\n",
    "\n",
    "\n",
    "def measure_runtime(neighbors: NeighborsList):\n",
    "    stopwatch_start = time.time()\n",
    "    mimic_calculating_forces(neighbors)\n",
    "    return time.time() - stopwatch_start\n",
    "\n",
    "\n",
    "def compare_runtimes(constant: float, repetitions: int) -> tuple[int, float, float]:\n",
    "    particles = construct_lattice(constant, repetitions, FCC_BASIS)\n",
    "\n",
    "    huge_cutoff_neighbors_list = NeighborsList(constant * sys.maxsize)\n",
    "    huge_cutoff_neighbors_list.update(particles)\n",
    "    normal_cutoff_neighbors_list = NeighborsList(math.sqrt(constant))\n",
    "    normal_cutoff_neighbors_list.update(particles)\n",
    "\n",
    "    del particles\n",
    "\n",
    "    return (\n",
    "        repetitions,\n",
    "        measure_runtime(huge_cutoff_neighbors_list),\n",
    "        measure_runtime(normal_cutoff_neighbors_list)\n",
    "    )\n",
    "\n",
    "print(\"Measuring runtimes...\")\n",
    "results = [\n",
    "    compare_runtimes(LATTICE_CONSTANT, repetitions)\n",
    "    for repetitions in range(2, 11)\n",
    "]\n",
    "print(\"Done!\")"
   ]
  },
  {
   "cell_type": "markdown",
   "metadata": {},
   "source": [
    "Having our times measured, we will be able to see how the computational time scales with the number of particles and the cutoff distance. This will allow us to see the importance of the neighbor list in molecular dynamics simulations and how the computational time scales with the number of particles and the cutoff distance. To make the comparison more clear, we will plot the speedup of the neighbor list method over the brute force method."
   ]
  },
  {
   "cell_type": "code",
   "execution_count": null,
   "metadata": {},
   "outputs": [],
   "source": [
    "fig = plt.figure()\n",
    "\n",
    "ax = fig.add_subplot(111)\n",
    "ax.set_xlabel(\"Number of repetitions\")\n",
    "ax.set_ylabel(\"Speedup (%)\")\n",
    "\n",
    "speedup = [\n",
    "    100 * (huge_cutoff_time - normal_cutoff_time) / huge_cutoff_time\n",
    "    for _, huge_cutoff_time, normal_cutoff_time in results\n",
    "]\n",
    "\n",
    "ax.plot(\n",
    "    [repetitions for repetitions, _, _ in results],\n",
    "    speedup,\n",
    "    color=\"green\",\n",
    ")\n",
    "\n",
    "plt.style.use(\"dark_background\")\n",
    "\n",
    "plt.show()"
   ]
  },
  {
   "cell_type": "markdown",
   "metadata": {},
   "source": [
    "The results speak for themselves. The neighbor list method is much faster than the brute force method, especially for large number of particles. For especially large systems, it tends to the magical 100% of speedup, which means that the computational time is halved. This is a very important result, as it shows that the neighbor list is a very important tool in molecular dynamics simulations and that it can greatly reduce the computational time.\n",
    "\n",
    "Knowing that and having our basis for neighbors list implementation, we can finally jump into writing some code in Rust! 👨‍💻🦀"
   ]
  }
 ],
 "metadata": {
  "kernelspec": {
   "display_name": "Python 3",
   "language": "python",
   "name": "python3"
  },
  "language_info": {
   "codemirror_mode": {
    "name": "ipython",
    "version": 3
   },
   "file_extension": ".py",
   "mimetype": "text/x-python",
   "name": "python",
   "nbconvert_exporter": "python",
   "pygments_lexer": "ipython3",
   "version": "3.11.4"
  },
  "orig_nbformat": 4
 },
 "nbformat": 4,
 "nbformat_minor": 2
}
